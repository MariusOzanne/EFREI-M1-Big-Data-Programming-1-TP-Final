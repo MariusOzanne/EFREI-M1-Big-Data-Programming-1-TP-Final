{
 "cells": [
  {
   "cell_type": "markdown",
   "id": "748672db",
   "metadata": {},
   "source": [
    "# Couche silver\n",
    "transformer les données puis les stocker dans hive"
   ]
  },
  {
   "cell_type": "code",
   "execution_count": 1,
   "id": "55a4783f",
   "metadata": {},
   "outputs": [],
   "source": [
    "from pyspark.sql import SparkSession\n",
    "\n",
    "# Step 1: Create Spark session with Hive support\n",
    "spark = SparkSession.builder \\\n",
    "    .appName(\"SilverLayer\") \\\n",
    "    .enableHiveSupport() \\\n",
    "    .getOrCreate()"
   ]
  },
  {
   "cell_type": "markdown",
   "id": "c0d1bffd",
   "metadata": {},
   "source": [
    "Save data to a hive database"
   ]
  },
  {
   "cell_type": "code",
   "execution_count": 9,
   "id": "21c55329",
   "metadata": {},
   "outputs": [
    {
     "name": "stdout",
     "output_type": "stream",
     "text": [
      "+------------------+----+------------------+--------------------+------------+-----------+-------------------+--------+--------------------+--------------------+---+-------------------+--------+----+--------------------+----------+------------+-----------+-----------------+\n",
      "|           valence|year|      acousticness|             artists|danceability|duration_ms|             energy|explicit|                  id|    instrumentalness|key|           liveness|loudness|mode|                name|popularity|release_date|speechiness|            tempo|\n",
      "+------------------+----+------------------+--------------------+------------+-----------+-------------------+--------+--------------------+--------------------+---+-------------------+--------+----+--------------------+----------+------------+-----------+-----------------+\n",
      "|             0.889|1963|            0.0129|['Frankie Valli &...|       0.529|     141627| 0.7020000000000001|       0|6PCU7UTjRYLhOZksk...|            2.57e-06| 10|              0.078|  -9.043|   0|            One Song|        14|  1963-02-01|     0.0399|          128.025|\n",
      "|0.7040000000000001|1963|0.7709999999999999|          ['黃國隆']|        0.61|     208760|              0.175|       0|6Pqs2suXEqCGx7Lxg...|                 0.0|  7|             0.0309| -20.232|   1|              思想起|        23|  1963-05-28|     0.0419|          124.662|\n",
      "|             0.251|1963|             0.846|  ['Living Strings']|       0.249|     192147|              0.235|       0|6S4mWt72qIda3FEX5...|  0.8420000000000001|  1|              0.199| -16.379|   1|     White Christmas|        12|  1963-10-01|     0.0299|           90.331|\n",
      "|0.8240000000000001|1963|             0.767|    ['The Platters']|       0.603|     108627|              0.542|       0|6STO6dU9WZfRSeoxn...|                 0.0| 10|              0.138|  -8.797|   1|Santa Claus Is Co...|        16|        1963|     0.0377|          135.946|\n",
      "|             0.606|1963|0.8390000000000001|['Patsy Cline', '...|       0.402|     132200|              0.184|       0|6YrRM3XMD9E8VSp1Z...|                 0.0|  7|               0.15| -16.691|   1|          Heartaches|        14|  1963-06-10|     0.0423|          171.467|\n",
      "|             0.388|1963|               0.9|   ['Marty Robbins']|       0.575|     150093|              0.217|       0|6jq9jaQ5VvfIW6PoH...|            9.14e-06| 11|0.14400000000000002| -12.068|   1|   Lovely Hula Hands|        10|  1963-12-31|     0.0326|          100.849|\n",
      "|             0.444|1963|             0.964|    ['Mose Allison']|       0.711|     193960|              0.124|       0|6kdlI1Ghno0CqnSW9...|               0.413|  5|             0.0931| -15.546|   1|Baby, Let Me Hold...|        16|        1963|     0.0439|            62.36|\n",
      "|             0.175|1963|             0.706|          ['水柳仙']|       0.209|     220440|             0.0563|       0|6xwsSpOivYpwag45A...|               0.947|  2|              0.413| -27.385|   1|              心酸酸|        23|  1963-07-01|     0.0372|            85.57|\n",
      "|0.8540000000000001|1963|0.6729999999999999|   ['Willie Nelson']|       0.665|     112660| 0.5489999999999999|       0|6zdziVmXLM6FUyzf9...|                 0.0|  4|              0.127|  -9.852|   0|           Roly Poly|        13|  1963-01-01|      0.104|          120.708|\n",
      "|             0.363|1963|             0.825|     ['Roy Orbison']|       0.508|     140307|              0.289|       0|78iYjFxPN8jDSFoXh...|             0.00124|  5|0.14300000000000002| -11.068|   1|House Without Win...|        17|     1963-07|     0.0244|            93.24|\n",
      "|              0.67|1963|             0.871|  ['Johnny Hartman']|       0.591|     125067|              0.242|       0|7GbS0AxMZ37MlFGl4...|3.310000000000000...|  2|              0.138| -13.731|   0|  Don't Call It Love|        14|        1963|     0.0493|          149.433|\n",
      "|             0.404|1963|0.8740000000000001|     ['Patsy Cline']|       0.574|     136333|              0.138|       0|7GoLfOZ7KEMxoTjgM...|                 0.0|  7|              0.108| -18.074|   1|Strange - Single ...|        13|  1963-06-10|     0.0359|          124.425|\n",
      "|             0.248|1963|             0.953|['Sons of the Pio...|       0.334|     163680|               0.14|       0|7JCeyEmnlos1jjkBt...|            6.54e-06|  4|              0.341| -16.047|   1|There's a Long, L...|        10|  1963-12-31|     0.0296|           82.568|\n",
      "|             0.285|1963|             0.721|          ['水柳仙']|        0.22|     188280|             0.0559|       0|7JFPUkGX9KDy8zxUL...|  0.8370000000000001|  5|               0.17| -24.019|   1|              望春風|        23|  1963-07-01|     0.0396|71.01899999999998|\n",
      "|             0.557|1963|             0.741|      ['Brenda Lee']|       0.451|     153387|0.34700000000000003|       0|7KBnxbYI5gl5trm8X...|            1.75e-06|  7|              0.278| -10.411|   1|   Our Day Will Come|        19|  1963-09-12|     0.0284|           93.279|\n",
      "|0.8370000000000001|1963|             0.787|     ['Davy Graham']|       0.552|     115560|              0.269|       0|7aHrc5eDGT3GtLG7Y...|               0.584|  1|              0.105| -21.177|   0|           Take Five|        22|  1963-01-01|     0.0396|           98.387|\n",
      "|             0.958|1963|              0.72|          ['黃國隆']|       0.816|     147373|              0.187|       0|7jSt9XJHRynGrrcnn...|                 0.0|  9|              0.115|  -20.53|   0|            丟丟銅仔|        23|  1963-05-28|      0.093|          124.617|\n",
      "|             0.232|1963|             0.967|['Aaron Copland',...|       0.371|     244867|               0.14|       0|05o847vXlhbpd1vX6...|  0.8759999999999999|  0|             0.0951| -21.424|   1|Appalachian Sprin...|        11|        1963|     0.0716|           83.149|\n",
      "|             0.642|1963|             0.599| ['Ella Fitzgerald']|        0.61|     199533|              0.248|       0|0HzmSjLDC10nlLphv...|                 0.0|  9|              0.173| -12.389|   0| Hernando's Hideaway|        15|        1963|     0.0766|          105.087|\n",
      "|            0.0859|1963|             0.933|   ['Johnny Mathis']|       0.445|     205280|              0.138|       0|0JNiQqYzUYRGHQ6Kk...|            1.09e-06|  9|              0.129| -16.514|   1|The Little Drumme...|        11|  1963-10-04|     0.0413|          104.888|\n",
      "+------------------+----+------------------+--------------------+------------+-----------+-------------------+--------+--------------------+--------------------+---+-------------------+--------+----+--------------------+----------+------------+-----------+-----------------+\n",
      "only showing top 20 rows\n",
      "\n"
     ]
    }
   ],
   "source": [
    "music_info_df = spark.read.parquet(\"../Bronze/data/csv\", header=True, inferSchema=True)\n",
    "\n",
    "spark.sql(\"CREATE DATABASE IF NOT EXISTS spotifyInfo\")\n",
    "\n",
    "music_info_df.write \\\n",
    "    .mode(\"overwrite\") \\\n",
    "    .option(\"path\", \"data/musicInfo\")\\\n",
    "    .format(\"parquet\") \\\n",
    "    .saveAsTable(\"spotifyInfo.musicInfo\")\n",
    "\n",
    "spark.sql(\"SELECT * FROM spotifyInfo.musicInfo\").show()"
   ]
  },
  {
   "cell_type": "markdown",
   "id": "ec63a27a",
   "metadata": {},
   "source": [
    "save data to a local folder"
   ]
  },
  {
   "cell_type": "code",
   "execution_count": 10,
   "id": "7a99e459",
   "metadata": {},
   "outputs": [],
   "source": [
    "music_info_df.write \\\n",
    "    .mode(\"overwrite\")\\\n",
    "    .parquet(\"data/musicInfo\")"
   ]
  }
 ],
 "metadata": {
  "kernelspec": {
   "display_name": "Python 3",
   "language": "python",
   "name": "python3"
  },
  "language_info": {
   "codemirror_mode": {
    "name": "ipython",
    "version": 3
   },
   "file_extension": ".py",
   "mimetype": "text/x-python",
   "name": "python",
   "nbconvert_exporter": "python",
   "pygments_lexer": "ipython3",
   "version": "3.13.2"
  }
 },
 "nbformat": 4,
 "nbformat_minor": 5
}
