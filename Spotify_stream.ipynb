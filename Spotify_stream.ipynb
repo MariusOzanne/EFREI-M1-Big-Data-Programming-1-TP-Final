{
 "cells": [
  {
   "cell_type": "code",
   "execution_count": null,
   "id": "d417c4c1",
   "metadata": {},
   "outputs": [],
   "source": [
    "import requests\n",
    "from flask import Flask, request, redirect\n",
    "import webbrowser\n",
    "import threading\n",
    "\n",
    "CLIENT_ID = 'YOUR_SPOTIFY_CLIENT_ID'\n",
    "CLIENT_SECRET = 'YOUR_SPOTIFY_CLIENT_SECRET'\n",
    "REDIRECT_URI = 'http://localhost:8080/callback'\n",
    "SCOPE = 'user-library-read user-read-private user-read-email'\n",
    "\n",
    "app = Flask(__name__)\n",
    "access_token = None\n",
    "\n",
    "@app.route('/')\n",
    "def login():\n",
    "    auth_url = (\n",
    "        \"https://accounts.spotify.com/authorize\"\n",
    "        f\"?client_id={CLIENT_ID}\"\n",
    "        f\"&response_type=code\"\n",
    "        f\"&redirect_uri={REDIRECT_URI}\"\n",
    "        f\"&scope={SCOPE}\"\n",
    "    )\n",
    "    return redirect(auth_url)\n",
    "\n",
    "@app.route('/callback')\n",
    "def callback():\n",
    "    global access_token\n",
    "    code = request.args.get('code')\n",
    "    token_url = 'https://accounts.spotify.com/api/token'\n",
    "    payload = {\n",
    "        'grant_type': 'authorization_code',\n",
    "        'code': code,\n",
    "        'redirect_uri': REDIRECT_URI,\n",
    "        'client_id': CLIENT_ID,\n",
    "        'client_secret': CLIENT_SECRET\n",
    "    }\n",
    "\n",
    "    response = requests.post(token_url, data=payload)\n",
    "    access_token = response.json().get('access_token')\n",
    "    return f\"Access token received! You can now use it in PySpark: {access_token}\"\n",
    "\n",
    "def run_flask():\n",
    "    app.run(port=8080)\n",
    "\n",
    "def get_spotify_token():\n",
    "    threading.Thread(target=run_flask).start()\n",
    "    webbrowser.open('http://localhost:8080')\n",
    "\n",
    "if __name__ == '__main__':\n",
    "    get_spotify_token()\n"
   ]
  },
  {
   "cell_type": "code",
   "execution_count": null,
   "id": "0512baa7",
   "metadata": {},
   "outputs": [],
   "source": [
    "import requests\n",
    "import json\n",
    "\n",
    "token = 'YOUR_ACCESS_TOKEN'\n",
    "\n",
    "headers = {'Authorization': f'Bearer {token}'}\n",
    "response = requests.get('https://api.spotify.com/v1/me/tracks?limit=50', headers=headers)\n",
    "\n",
    "data = response.json()\n",
    "# Use this data in PySpark, e.g., sc.parallelize(data['items'])\n"
   ]
  },
  {
   "cell_type": "code",
   "execution_count": null,
   "id": "9b67c9d5",
   "metadata": {},
   "outputs": [],
   "source": [
    "#http://localhost:8080/callback\n"
   ]
  }
 ],
 "metadata": {
  "language_info": {
   "name": "python"
  }
 },
 "nbformat": 4,
 "nbformat_minor": 5
}
